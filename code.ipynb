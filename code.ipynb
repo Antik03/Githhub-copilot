{
 "cells": [
  {
   "cell_type": "code",
   "execution_count": null,
   "metadata": {},
   "outputs": [],
   "source": [
    "def process_transactions(transactions):\n",
    "    total = 0\n",
    "    for transaction in transactions:\n",
    "        if transaction['type'] == 'credit':\n",
    "            total += transaction['amount']\n",
    "        elif transaction['type'] == 'debit':\n",
    "            total -= transaction['amount']\n",
    "    return total"
   ]
  },
  {
   "cell_type": "code",
   "execution_count": null,
   "metadata": {},
   "outputs": [],
   "source": []
  }
 ],
 "metadata": {
  "language_info": {
   "name": "python"
  }
 },
 "nbformat": 4,
 "nbformat_minor": 2
}
