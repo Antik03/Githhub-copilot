{
 "cells": [
  {
   "cell_type": "code",
   "execution_count": null,
   "metadata": {},
   "outputs": [],
   "source": [
    "# Original function\n",
    "def slow_function(data):\n",
    "    result = []\n",
    "    for item in data:\n",
    "        result.append(item * 2)\n",
    "    return result\n"
   ]
  }
 ],
 "metadata": {
  "language_info": {
   "name": "python"
  }
 },
 "nbformat": 4,
 "nbformat_minor": 2
}
