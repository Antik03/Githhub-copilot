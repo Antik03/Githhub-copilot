{
 "cells": [
  {
   "cell_type": "code",
   "execution_count": 1,
   "metadata": {},
   "outputs": [],
   "source": [
    "# generate a function calculate area of the circle given its radius\n",
    "#parameters: radius\n",
    "#return: area of the circle\n",
    "#function signature: def calculate_area_of_circle(radius: float) -> float:\n",
    "#example: calculate_area_of_circle(5) -> 78.54\n",
    "def calculate_area_of_circle(radius: float) -> float:\n",
    "    return 3.14159 * radius * radius"
   ]
  },
  {
   "cell_type": "code",
   "execution_count": null,
   "metadata": {},
   "outputs": [],
   "source": []
  }
 ],
 "metadata": {
  "kernelspec": {
   "display_name": "Python 3",
   "language": "python",
   "name": "python3"
  },
  "language_info": {
   "codemirror_mode": {
    "name": "ipython",
    "version": 3
   },
   "file_extension": ".py",
   "mimetype": "text/x-python",
   "name": "python",
   "nbconvert_exporter": "python",
   "pygments_lexer": "ipython3",
   "version": "3.10.11"
  }
 },
 "nbformat": 4,
 "nbformat_minor": 2
}
